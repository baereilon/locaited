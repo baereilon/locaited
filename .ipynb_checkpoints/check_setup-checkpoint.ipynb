{
 "cells": [
  {
   "cell_type": "markdown",
   "metadata": {},
   "source": [
    "# LocAIted Project Setup Verification\n",
    "\n",
    "This notebook helps you explore and verify the project setup for LocAIted."
   ]
  },
  {
   "cell_type": "code",
   "execution_count": null,
   "metadata": {},
   "outputs": [],
   "source": [
    "# Setup imports\n",
    "import sys\n",
    "import os\n",
    "from pathlib import Path\n",
    "from datetime import datetime\n",
    "import pandas as pd\n",
    "import json\n",
    "\n",
    "# Add src to path\n",
    "sys.path.insert(0, str(Path.cwd() / \"src\"))\n",
    "\n",
    "from config import *\n",
    "from database import *\n",
    "\n",
    "print(\"✅ Imports successful!\")"
   ]
  },
  {
   "cell_type": "markdown",
   "metadata": {},
   "source": [
    "## 1. Environment Check"
   ]
  },
  {
   "cell_type": "code",
   "execution_count": null,
   "metadata": {},
   "outputs": [],
   "source": [
    "# Check Python version and environment\n",
    "print(f\"Python Version: {sys.version}\")\n",
    "print(f\"\\nVirtual Environment: {sys.prefix}\")\n",
    "print(f\"\\nProject Root: {PROJECT_ROOT}\")\n",
    "print(f\"Test Data Path: {TEST_DATA_PATH}\")\n",
    "print(f\"Database: {DATABASE_URL}\")"
   ]
  },
  {
   "cell_type": "markdown",
   "metadata": {},
   "source": [
    "## 2. API Keys Configuration"
   ]
  },
  {
   "cell_type": "code",
   "execution_count": null,
   "metadata": {},
   "outputs": [],
   "source": [
    "# Check API keys (masked for security)\n",
    "def mask_key(key):\n",
    "    if key:\n",
    "        return key[:10] + \"...\" + key[-4:]\n",
    "    return \"NOT CONFIGURED\"\n",
    "\n",
    "print(\"API Keys Status:\")\n",
    "print(f\"\\n✅ Tavily API Key: {mask_key(TAVILY_API_KEY)}\")\n",
    "print(f\"✅ OpenAI API Key: {mask_key(OPENAI_API_KEY)}\")\n",
    "print(f\"\\nOpenAI Model: {OPENAI_MODEL}\")\n",
    "print(f\"Max Cost per Query: ${MAX_COST_PER_QUERY}\")\n",
    "print(f\"\\nTavily Settings:\")\n",
    "print(f\"  - Search Depth: {TAVILY_SEARCH_DEPTH}\")\n",
    "print(f\"  - Max Results: {TAVILY_MAX_RESULTS}\")\n",
    "print(f\"  - Max URLs to Extract: {TAVILY_EXTRACT_MAX_URLS}\")"
   ]
  },
  {
   "cell_type": "markdown",
   "metadata": {},
   "source": [
    "## 3. Dependencies Check"
   ]
  },
  {
   "cell_type": "code",
   "execution_count": null,
   "metadata": {},
   "outputs": [],
   "source": [
    "# Check installed packages\n",
    "packages = [\n",
    "    ('langgraph', 'Agent Orchestration'),\n",
    "    ('tavily', 'Web Search API'),\n",
    "    ('openai', 'LLM API'),\n",
    "    ('sqlalchemy', 'Database ORM'),\n",
    "    ('fastapi', 'API Framework'),\n",
    "    ('pydantic', 'Data Validation')\n",
    "]\n",
    "\n",
    "print(\"Installed Packages:\")\n",
    "for package, description in packages:\n",
    "    try:\n",
    "        module = __import__(package.replace('-', '_'))\n",
    "        version = getattr(module, '__version__', 'installed')\n",
    "        print(f\"✅ {description:20} ({package}): {version}\")\n",
    "    except ImportError:\n",
    "        print(f\"❌ {description:20} ({package}): Not installed\")"
   ]
  },
  {
   "cell_type": "markdown",
   "metadata": {},
   "source": [
    "## 4. Database Setup"
   ]
  },
  {
   "cell_type": "code",
   "execution_count": null,
   "metadata": {},
   "outputs": [],
   "source": [
    "# Initialize database if needed\n",
    "init_db()\n",
    "\n",
    "# Show tables\n",
    "print(\"Database Tables:\")\n",
    "for table_name in Base.metadata.tables.keys():\n",
    "    print(f\"  • {table_name}\")"
   ]
  },
  {
   "cell_type": "code",
   "execution_count": null,
   "metadata": {},
   "outputs": [],
   "source": [
    "# Check database contents\n",
    "db = next(get_db())\n",
    "\n",
    "stats = {\n",
    "    'Users': db.query(User).count(),\n",
    "    'Events': db.query(Event).count(),\n",
    "    'Recommendations': db.query(Recommendation).count(),\n",
    "    'Feedback': db.query(Feedback).count(),\n",
    "    'Cached Queries': db.query(QueryCache).count()\n",
    "}\n",
    "\n",
    "print(\"Database Record Counts:\")\n",
    "for table, count in stats.items():\n",
    "    print(f\"  {table:15}: {count}\")\n",
    "\n",
    "db.close()"
   ]
  },
  {
   "cell_type": "code",
   "execution_count": null,
   "metadata": {},
   "outputs": [],
   "source": [
    "# Show sample data if exists\n",
    "db = next(get_db())\n",
    "\n",
    "if db.query(Event).count() > 0:\n",
    "    print(\"Sample Events in Database:\")\n",
    "    events = db.query(Event).limit(5).all()\n",
    "    for event in events:\n",
    "        print(f\"  • {event.title}\")\n",
    "        print(f\"    Location: {event.location}\")\n",
    "        print(f\"    Organizer: {event.organizer}\")\n",
    "        print(f\"    Created: {event.created_at}\\n\")\n",
    "else:\n",
    "    print(\"No events in database yet.\")\n",
    "\n",
    "db.close()"
   ]
  },
  {
   "cell_type": "markdown",
   "metadata": {},
   "source": [
    "## 5. Test Data Exploration"
   ]
  },
  {
   "cell_type": "code",
   "execution_count": null,
   "metadata": {},
   "outputs": [],
   "source": [
    "# Load and explore test data\n",
    "if TEST_DATA_PATH.exists():\n",
    "    df = pd.read_csv(TEST_DATA_PATH)\n",
    "    print(f\"Test Data: {len(df)} events loaded\")\n",
    "    print(f\"\\nColumns: {list(df.columns)}\")\n",
    "    print(f\"\\nFirst 5 events:\")\n",
    "    display(df.head())\n",
    "else:\n",
    "    print(f\"Test data file not found at: {TEST_DATA_PATH}\")"
   ]
  },
  {
   "cell_type": "code",
   "execution_count": null,
   "metadata": {},
   "outputs": [],
   "source": [
    "# Analyze event types\n",
    "if 'df' in locals():\n",
    "    print(\"Event Types Distribution:\")\n",
    "    type_counts = df['type'].value_counts()\n",
    "    for event_type, count in type_counts.items():\n",
    "        print(f\"  {event_type:20}: {count} events\")\n",
    "    \n",
    "    print(f\"\\nAccess Requirements:\")\n",
    "    access_counts = df['access'].value_counts()\n",
    "    for access_type, count in access_counts.items():\n",
    "        print(f\"  {access_type:20}: {count} events\")"
   ]
  },
  {
   "cell_type": "code",
   "execution_count": null,
   "metadata": {},
   "outputs": [],
   "source": [
    "# Show interesting events for testing\n",
    "if 'df' in locals():\n",
    "    print(\"Sample Events for Testing:\")\n",
    "    print(\"\\nProtests:\")\n",
    "    protests = df[df['type'] == 'Protest'].head(2)\n",
    "    for _, row in protests.iterrows():\n",
    "        print(f\"  • {row['event']} - {row['date']}\")\n",
    "    \n",
    "    print(\"\\nCultural Events:\")\n",
    "    cultural = df[df['type'] == 'Cultural Event'].head(2)\n",
    "    for _, row in cultural.iterrows():\n",
    "        print(f\"  • {row['event']} - {row['date']}\")\n",
    "    \n",
    "    print(\"\\nPolitical Events:\")\n",
    "    political = df[df['type'] == 'Political event'].head(2)\n",
    "    for _, row in political.iterrows():\n",
    "        print(f\"  • {row['event']} - {row['date']}\")"
   ]
  },
  {
   "cell_type": "markdown",
   "metadata": {},
   "source": [
    "## 6. Project Structure"
   ]
  },
  {
   "cell_type": "code",
   "execution_count": null,
   "metadata": {},
   "outputs": [],
   "source": [
    "# Show project structure\n",
    "import os\n",
    "\n",
    "def show_tree(path, prefix=\"\", max_depth=3, current_depth=0):\n",
    "    if current_depth >= max_depth:\n",
    "        return\n",
    "    \n",
    "    items = sorted(Path(path).iterdir())\n",
    "    for i, item in enumerate(items):\n",
    "        # Skip certain directories\n",
    "        if item.name in ['venv', '__pycache__', '.git', '.vscode', 'micromamba']:\n",
    "            continue\n",
    "        \n",
    "        is_last = i == len(items) - 1\n",
    "        current_prefix = \"└── \" if is_last else \"├── \"\n",
    "        print(f\"{prefix}{current_prefix}{item.name}\")\n",
    "        \n",
    "        if item.is_dir():\n",
    "            next_prefix = prefix + (\"    \" if is_last else \"│   \")\n",
    "            show_tree(item, next_prefix, max_depth, current_depth + 1)\n",
    "\n",
    "print(\"Project Structure:\")\n",
    "show_tree(\".\", max_depth=3)"
   ]
  },
  {
   "cell_type": "markdown",
   "metadata": {},
   "source": [
    "## 7. Test Database Operations"
   ]
  },
  {
   "cell_type": "code",
   "execution_count": null,
   "metadata": {},
   "outputs": [],
   "source": [
    "# Test creating a user\n",
    "db = next(get_db())\n",
    "\n",
    "# Check if test user exists\n",
    "test_user = db.query(User).filter_by(email=\"notebook@test.com\").first()\n",
    "\n",
    "if not test_user:\n",
    "    test_user = create_user(\n",
    "        db,\n",
    "        name=\"Notebook Test User\",\n",
    "        email=\"notebook@test.com\",\n",
    "        primary_location=\"NYC\",\n",
    "        interest_areas=[\"protests\", \"cultural\", \"political\"]\n",
    "    )\n",
    "    print(f\"✅ Created test user: {test_user.name}\")\n",
    "else:\n",
    "    print(f\"✅ Test user exists: {test_user.name}\")\n",
    "\n",
    "print(f\"   ID: {test_user.id}\")\n",
    "print(f\"   Email: {test_user.email}\")\n",
    "print(f\"   Location: {test_user.primary_location}\")\n",
    "print(f\"   Interests: {test_user.interest_areas}\")\n",
    "\n",
    "db.close()"
   ]
  },
  {
   "cell_type": "code",
   "execution_count": null,
   "metadata": {},
   "outputs": [],
   "source": [
    "# Test event deduplication\n",
    "db = next(get_db())\n",
    "\n",
    "event_data = {\n",
    "    'title': \"Test Notebook Event\",\n",
    "    'start_time': datetime.now(),\n",
    "    'location': \"NYC\",\n",
    "    'organizer': \"Notebook Org\",\n",
    "    'summary': \"Test event from notebook\"\n",
    "}\n",
    "\n",
    "# Create event twice - should deduplicate\n",
    "event1 = get_or_create_event(db, event_data)\n",
    "print(f\"First call - Event ID: {event1.id}\")\n",
    "\n",
    "event2 = get_or_create_event(db, event_data)\n",
    "print(f\"Second call - Event ID: {event2.id}\")\n",
    "\n",
    "if event1.id == event2.id:\n",
    "    print(\"✅ Deduplication working correctly!\")\n",
    "else:\n",
    "    print(\"❌ Deduplication not working\")\n",
    "\n",
    "db.close()"
   ]
  },
  {
   "cell_type": "markdown",
   "metadata": {},
   "source": [
    "## 8. Quick API Tests"
   ]
  },
  {
   "cell_type": "code",
   "execution_count": null,
   "metadata": {},
   "outputs": [],
   "source": [
    "# Test Tavily connection (without making actual API call)\n",
    "from tavily import TavilyClient\n",
    "\n",
    "try:\n",
    "    client = TavilyClient(api_key=TAVILY_API_KEY)\n",
    "    print(\"✅ Tavily client initialized successfully\")\n",
    "    print(f\"   Ready to search with depth='{TAVILY_SEARCH_DEPTH}'\")\n",
    "    print(f\"   Max results: {TAVILY_MAX_RESULTS}\")\n",
    "except Exception as e:\n",
    "    print(f\"❌ Tavily initialization error: {e}\")"
   ]
  },
  {
   "cell_type": "code",
   "execution_count": null,
   "metadata": {},
   "outputs": [],
   "source": [
    "# Test OpenAI connection (without making actual API call)\n",
    "from openai import OpenAI\n",
    "\n",
    "try:\n",
    "    client = OpenAI(api_key=OPENAI_API_KEY)\n",
    "    print(\"✅ OpenAI client initialized successfully\")\n",
    "    print(f\"   Model: {OPENAI_MODEL}\")\n",
    "    print(f\"   Budget: ${MAX_COST_PER_QUERY} per query\")\n",
    "except Exception as e:\n",
    "    print(f\"❌ OpenAI initialization error: {e}\")"
   ]
  },
  {
   "cell_type": "markdown",
   "metadata": {},
   "source": [
    "## 9. Next Steps - Phase 2 Preview"
   ]
  },
  {
   "cell_type": "code",
   "execution_count": null,
   "metadata": {},
   "outputs": [],
   "source": [
    "# Preview of what's coming in Phase 2\n",
    "phase2_tasks = [\n",
    "    {\n",
    "        \"task\": \"LangGraph Skeleton\",\n",
    "        \"components\": [\n",
    "            \"State definition (query, candidates, extracted, top10)\",\n",
    "            \"Workflow transitions\",\n",
    "            \"Cycle detection and management\"\n",
    "        ]\n",
    "    },\n",
    "    {\n",
    "        \"task\": \"Profile & Planner Agent\",\n",
    "        \"components\": [\n",
    "            \"Parse CSV events\",\n",
    "            \"Extract domains from URLs\",\n",
    "            \"Build user profile\"\n",
    "        ]\n",
    "    },\n",
    "    {\n",
    "        \"task\": \"Retriever Agent\",\n",
    "        \"components\": [\n",
    "            \"Tavily search integration\",\n",
    "            \"Apply date/location filters\",\n",
    "            \"Return candidate URLs\"\n",
    "        ]\n",
    "    },\n",
    "    {\n",
    "        \"task\": \"Extractor Agent\",\n",
    "        \"components\": [\n",
    "            \"Extract from top URLs\",\n",
    "            \"Normalize event fields\",\n",
    "            \"Structure data\"\n",
    "        ]\n",
    "    },\n",
    "    {\n",
    "        \"task\": \"Recommender Agent\",\n",
    "        \"components\": [\n",
    "            \"Score events against profile\",\n",
    "            \"Generate rationales (≤350 chars)\",\n",
    "            \"Select top 10\"\n",
    "        ]\n",
    "    }\n",
    "]\n",
    "\n",
    "print(\"Phase 2: Core Agents Development\\n\")\n",
    "for i, task in enumerate(phase2_tasks, 1):\n",
    "    print(f\"{i}. {task['task']}\")\n",
    "    for component in task['components']:\n",
    "        print(f\"   • {component}\")\n",
    "    print()"
   ]
  },
  {
   "cell_type": "markdown",
   "metadata": {},
   "source": [
    "## Summary"
   ]
  },
  {
   "cell_type": "code",
   "execution_count": null,
   "metadata": {},
   "outputs": [],
   "source": [
    "# Final summary\n",
    "print(\"=\"*60)\n",
    "print(\"  LocAIted Setup Summary\")\n",
    "print(\"=\"*60)\n",
    "\n",
    "checklist = [\n",
    "    (\"Environment configured\", 'venv' in sys.prefix or 'micromamba' in sys.prefix),\n",
    "    (\"API keys configured\", bool(TAVILY_API_KEY and OPENAI_API_KEY)),\n",
    "    (\"Database initialized\", Path(DATABASE_URL.replace('sqlite:///', '')).exists()),\n",
    "    (\"Test data available\", TEST_DATA_PATH.exists()),\n",
    "    (\"Dependencies installed\", True)  # If we got this far, they're installed\n",
    "]\n",
    "\n",
    "all_good = True\n",
    "for task, status in checklist:\n",
    "    icon = \"✅\" if status else \"❌\"\n",
    "    print(f\"{icon} {task}\")\n",
    "    all_good = all_good and status\n",
    "\n",
    "if all_good:\n",
    "    print(\"\\n🎉 Phase 1 Complete! Ready for Phase 2: Building Agents\")\n",
    "else:\n",
    "    print(\"\\n⚠️  Some items need attention before proceeding to Phase 2\")"
   ]
  }
 ],
 "metadata": {
  "kernelspec": {
   "display_name": "Python 3",
   "language": "python",
   "name": "python3"
  },
  "language_info": {
   "codemirror_mode": {
    "name": "ipython",
    "version": 3
   },
   "file_extension": ".py",
   "mimetype": "text/x-python",
   "name": "python",
   "nbconvert_exporter": "python",
   "pygments_lexer": "ipython3",
   "version": "3.11.0"
  }
 },
 "nbformat": 4,
 "nbformat_minor": 4
}