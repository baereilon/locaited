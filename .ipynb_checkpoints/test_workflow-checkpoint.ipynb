{
 "cells": [
  {
   "cell_type": "markdown",
   "metadata": {},
   "source": [
    "# LangGraph Workflow Testing\n",
    "\n",
    "This notebook tests the new LangGraph workflow implementation."
   ]
  },
  {
   "cell_type": "code",
   "execution_count": null,
   "metadata": {},
   "outputs": [],
   "source": [
    "# Setup imports\n",
    "import sys\n",
    "from pathlib import Path\n",
    "from datetime import datetime\n",
    "\n",
    "# Add src to path\n",
    "sys.path.insert(0, str(Path.cwd() / \"src\"))\n",
    "\n",
    "from agents.workflow import *\n",
    "\n",
    "print(\"✅ Workflow module imported successfully!\")"
   ]
  },
  {
   "cell_type": "markdown",
   "metadata": {},
   "source": [
    "## 1. Test Basic Workflow"
   ]
  },
  {
   "cell_type": "code",
   "execution_count": null,
   "metadata": {},
   "outputs": [],
   "source": [
    "# Run the workflow with a test query\n",
    "result = run_workflow(\n",
    "    query=\"Find protests and cultural events in NYC\",\n",
    "    city=\"NYC\",\n",
    "    days_ahead=14\n",
    ")\n",
    "\n",
    "print(\"Workflow executed successfully!\")\n",
    "print(f\"\\nQuery: {result['query_spec']['text']}\")\n",
    "print(f\"City: {result['query_spec']['city']}\")\n",
    "print(f\"Date Range: {result['query_spec']['date_from'].date()} to {result['query_spec']['date_to'].date()}\")\n",
    "print(f\"\\nCycles executed: {result['cycle_count']}\")\n",
    "print(f\"Total cost: ${result['total_cost']:.4f}\")\n",
    "print(f\"Events found: {len(result['top10'])}\")"
   ]
  },
  {
   "cell_type": "markdown",
   "metadata": {},
   "source": [
    "## 2. View Recommendations"
   ]
  },
  {
   "cell_type": "code",
   "execution_count": null,
   "metadata": {},
   "outputs": [],
   "source": [
    "# Show the top recommendations\n",
    "print(\"Top Recommendations:\")\n",
    "print(\"=\" * 50)\n",
    "\n",
    "for i, event in enumerate(result['top10'], 1):\n",
    "    print(f\"\\n{i}. {event['title']}\")\n",
    "    print(f\"   Score: {event['recommendation']:.2f}\")\n",
    "    print(f\"   Location: {event['location']}\")\n",
    "    print(f\"   Access: {event['access_req']}\")\n",
    "    print(f\"   Time: {event['time']}\")\n",
    "    print(f\"   Rationale: {event['rationale']}\")"
   ]
  },
  {
   "cell_type": "markdown",
   "metadata": {},
   "source": [
    "## 3. Examine Workflow Execution"
   ]
  },
  {
   "cell_type": "code",
   "execution_count": null,
   "metadata": {},
   "outputs": [],
   "source": [
    "# Show the workflow execution logs\n",
    "print(\"Workflow Execution Logs:\")\n",
    "print(\"=\" * 50)\n",
    "\n",
    "for log in result['logs']:\n",
    "    print(f\"  • {log}\")"
   ]
  },
  {
   "cell_type": "markdown",
   "metadata": {},
   "source": [
    "## 4. User Profile Analysis"
   ]
  },
  {
   "cell_type": "code",
   "execution_count": null,
   "metadata": {},
   "outputs": [],
   "source": [
    "# View the user profile that was built\n",
    "print(\"User Profile Built by Profile & Planner:\")\n",
    "print(\"=\" * 50)\n",
    "\n",
    "profile = result['user_profile']\n",
    "\n",
    "print(\"\\nAllowed Domains:\")\n",
    "for domain in profile['allowlist_domains']:\n",
    "    print(f\"  • {domain}\")\n",
    "\n",
    "print(\"\\nKeywords:\")\n",
    "for keyword in profile['keywords']:\n",
    "    print(f\"  • {keyword}\")\n",
    "\n",
    "print(\"\\nInterest Areas:\")\n",
    "for interest in profile['interest_areas']:\n",
    "    print(f\"  • {interest}\")\n",
    "\n",
    "print(\"\\nCredentials:\")\n",
    "for cred in profile['credentials']:\n",
    "    print(f\"  • {cred}\")"
   ]
  },
  {
   "cell_type": "markdown",
   "metadata": {},
   "source": [
    "## 5. State Structure"
   ]
  },
  {
   "cell_type": "code",
   "execution_count": null,
   "metadata": {},
   "outputs": [],
   "source": [
    "# Examine the complete state structure\n",
    "print(\"Workflow State Structure:\")\n",
    "print(\"=\" * 50)\n",
    "\n",
    "for key in result.keys():\n",
    "    value = result[key]\n",
    "    if isinstance(value, list):\n",
    "        print(f\"\\n{key}: (list with {len(value)} items)\")\n",
    "        if len(value) > 0 and key != 'logs':  # Show first item except for logs\n",
    "            print(f\"  First item type: {type(value[0]).__name__}\")\n",
    "    elif isinstance(value, dict):\n",
    "        print(f\"\\n{key}: (dict with {len(value)} keys)\")\n",
    "        print(f\"  Keys: {list(value.keys())}\")\n",
    "    else:\n",
    "        print(f\"\\n{key}: {value}\")"
   ]
  },
  {
   "cell_type": "markdown",
   "metadata": {},
   "source": [
    "## 6. Cycle Behavior"
   ]
  },
  {
   "cell_type": "code",
   "execution_count": null,
   "metadata": {},
   "outputs": [],
   "source": [
    "# Analyze the cycle behavior\n",
    "print(\"Cycle Analysis:\")\n",
    "print(\"=\" * 50)\n",
    "\n",
    "print(f\"\\nTotal cycles: {result['cycle_count']}\")\n",
    "print(f\"Final decision: {result['decision']['action']}\")\n",
    "print(f\"Decision notes: {result['decision']['notes']}\")\n",
    "\n",
    "# Count how many times each agent was called\n",
    "agent_calls = {}\n",
    "for log in result['logs']:\n",
    "    agent = log.split(':')[0]\n",
    "    agent_calls[agent] = agent_calls.get(agent, 0) + 1\n",
    "\n",
    "print(\"\\nAgent Execution Count:\")\n",
    "for agent, count in agent_calls.items():\n",
    "    print(f\"  • {agent}: {count} times\")"
   ]
  },
  {
   "cell_type": "markdown",
   "metadata": {},
   "source": [
    "## 7. Test Different Queries"
   ]
  },
  {
   "cell_type": "code",
   "execution_count": null,
   "metadata": {},
   "outputs": [],
   "source": [
    "# Test with different query types\n",
    "test_queries = [\n",
    "    \"Political events at UN headquarters\",\n",
    "    \"Fashion and cultural events next week\",\n",
    "    \"Protests and demonstrations in Bryant Park\"\n",
    "]\n",
    "\n",
    "print(\"Testing Different Queries:\")\n",
    "print(\"=\" * 50)\n",
    "\n",
    "for query in test_queries:\n",
    "    result = run_workflow(query, city=\"NYC\", days_ahead=30)\n",
    "    print(f\"\\nQuery: {query}\")\n",
    "    print(f\"  Results: {len(result['top10'])} events\")\n",
    "    print(f\"  Cycles: {result['cycle_count']}\")\n",
    "    print(f\"  Cost: ${result['total_cost']:.4f}\")\n",
    "    if result['top10']:\n",
    "        print(f\"  Top result: {result['top10'][0]['title']}\")"
   ]
  },
  {
   "cell_type": "markdown",
   "metadata": {},
   "source": [
    "## 8. Workflow Components"
   ]
  },
  {
   "cell_type": "code",
   "execution_count": null,
   "metadata": {},
   "outputs": [],
   "source": [
    "# Show the workflow components\n",
    "print(\"Workflow Components:\")\n",
    "print(\"=\" * 50)\n",
    "\n",
    "print(\"\\n1. STATE TYPES:\")\n",
    "print(\"   • QuerySpec: User's search parameters\")\n",
    "print(\"   • UserProfile: Domains, keywords, interests\")\n",
    "print(\"   • Candidates: Raw search results\")\n",
    "print(\"   • ExtractedEvent: Normalized event data\")\n",
    "print(\"   • RecommendedEvent: Scored events with rationales\")\n",
    "print(\"   • Decision: Gate decision (revise/accept)\")\n",
    "\n",
    "print(\"\\n2. AGENT NODES:\")\n",
    "print(\"   • profile_planner_node: Builds search profile\")\n",
    "print(\"   • retriever_node: Searches for events (will use Tavily)\")\n",
    "print(\"   • extractor_node: Extracts event details (will use Tavily)\")\n",
    "print(\"   • recommender_gate_node: Scores and gates results\")\n",
    "\n",
    "print(\"\\n3. FLOW:\")\n",
    "print(\"   Profile → Retriever → Extractor → Recommender/Gate\")\n",
    "print(\"   ↑                                              ↓\")\n",
    "print(\"   ←← (cycle if needed, max 2 times) ←←←←←←←←←←←←\")"
   ]
  },
  {
   "cell_type": "markdown",
   "metadata": {},
   "source": [
    "## Summary"
   ]
  },
  {
   "cell_type": "code",
   "execution_count": null,
   "metadata": {},
   "outputs": [],
   "source": [
    "print(\"=\" * 60)\n",
    "print(\"  LangGraph Workflow Status\")\n",
    "print(\"=\" * 60)\n",
    "\n",
    "print(\"\\n✅ COMPLETED:\")\n",
    "print(\"   • State management system\")\n",
    "print(\"   • Agent node structure\")\n",
    "print(\"   • Linear workflow flow\")\n",
    "print(\"   • Cycle capability (with max limit)\")\n",
    "print(\"   • Cost tracking\")\n",
    "print(\"   • Logging system\")\n",
    "\n",
    "print(\"\\n⏳ TODO (Next Steps):\")\n",
    "print(\"   • Profile & Planner: Parse real CSV data\")\n",
    "print(\"   • Retriever: Integrate Tavily search API\")\n",
    "print(\"   • Extractor: Use Tavily extract API\")\n",
    "print(\"   • Recommender: Improve scoring algorithm\")\n",
    "\n",
    "print(\"\\n📍 Current Status:\")\n",
    "print(\"   The workflow skeleton is functional with mock data.\")\n",
    "print(\"   Ready to integrate real agents one by one.\")"
   ]
  }
 ],
 "metadata": {
  "kernelspec": {
   "display_name": "Python 3",
   "language": "python",
   "name": "python3"
  },
  "language_info": {
   "codemirror_mode": {
    "name": "ipython",
    "version": 3
   },
   "file_extension": ".py",
   "mimetype": "text/x-python",
   "name": "python",
   "nbconvert_exporter": "python",
   "pygments_lexer": "ipython3",
   "version": "3.11.0"
  }
 },
 "nbformat": 4,
 "nbformat_minor": 4
}