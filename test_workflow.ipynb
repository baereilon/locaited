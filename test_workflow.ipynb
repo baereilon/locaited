{
 "cells": [
  {
   "cell_type": "markdown",
   "metadata": {},
   "source": [
    "# LangGraph Workflow Testing\n",
    "\n",
    "This notebook tests the new LangGraph workflow implementation."
   ]
  },
  {
   "cell_type": "code",
   "execution_count": 7,
   "metadata": {},
   "outputs": [
    {
     "name": "stdout",
     "output_type": "stream",
     "text": [
      "✅ Workflow module imported successfully!\n"
     ]
    }
   ],
   "source": [
    "# Setup imports\n",
    "import sys\n",
    "from pathlib import Path\n",
    "from datetime import datetime, timedelta\n",
    "\n",
    "# Add src to path\n",
    "sys.path.insert(0, str(Path.cwd() / \"src\"))\n",
    "\n",
    "# Import specific components from workflow\n",
    "from agents.workflow import (\n",
    "    WorkflowState,\n",
    "    QuerySpec,\n",
    "    UserProfile,\n",
    "    Candidate,\n",
    "    ExtractedEvent,\n",
    "    RecommendedEvent,\n",
    "    Decision,\n",
    "    create_workflow,\n",
    "    run_workflow,\n",
    "    test_workflow\n",
    ")\n",
    "\n",
    "print(\"✅ Workflow module imported successfully!\")"
   ]
  },
  {
   "cell_type": "markdown",
   "metadata": {},
   "source": [
    "## 1. Test Basic Workflow"
   ]
  },
  {
   "cell_type": "code",
   "execution_count": 2,
   "metadata": {},
   "outputs": [
    {
     "name": "stdout",
     "output_type": "stream",
     "text": [
      "Loaded 20 test events\n",
      "Searching Tavily with query: Find protests and cultural events in NYC NYC next 14 days 2025...\n",
      "Found 15 results from Tavily\n",
      "Workflow executed successfully!\n",
      "\n",
      "Query: Find protests and cultural events in NYC\n",
      "City: NYC\n",
      "Date Range: 2025-08-18 to 2025-09-01\n",
      "\n",
      "Cycles executed: 0\n",
      "Total cost: $0.0300\n",
      "Events found: 5\n"
     ]
    }
   ],
   "source": [
    "# Run the workflow with a test query\n",
    "result = run_workflow(\n",
    "    query=\"Find protests and cultural events in NYC\",\n",
    "    city=\"NYC\",\n",
    "    days_ahead=14\n",
    ")\n",
    "\n",
    "print(\"Workflow executed successfully!\")\n",
    "print(f\"\\nQuery: {result['query_spec']['text']}\")\n",
    "print(f\"City: {result['query_spec']['city']}\")\n",
    "print(f\"Date Range: {result['query_spec']['date_from'].date()} to {result['query_spec']['date_to'].date()}\")\n",
    "print(f\"\\nCycles executed: {result['cycle_count']}\")\n",
    "print(f\"Total cost: ${result['total_cost']:.4f}\")\n",
    "print(f\"Events found: {len(result['top10'])}\")"
   ]
  },
  {
   "cell_type": "markdown",
   "metadata": {},
   "source": [
    "## 2. View Recommendations"
   ]
  },
  {
   "cell_type": "code",
   "execution_count": 3,
   "metadata": {},
   "outputs": [
    {
     "name": "stdout",
     "output_type": "stream",
     "text": [
      "Top Recommendations:\n",
      "==================================================\n",
      "\n",
      "1. People rally during \"No Kings\" protests on June 14, 2025. Marches ...\n",
      "   Score: 0.80\n",
      "   Location: NYC\n",
      "   Access: open to all\n",
      "   Time: 2025-08-25 12:06:52.078414\n",
      "   Rationale: Matches your interest in Cultural Event. Located in NYC. \n",
      "\n",
      "2. ‍  Pride 2025 This year's theme, “Rise Up: Pride in Protest,” is a ...\n",
      "   Score: 0.70\n",
      "   Location: NYC\n",
      "   Access: open to all\n",
      "   Time: 2025-08-25 12:06:52.078401\n",
      "   Rationale: Matches your interest in Cultural Event. Located in NYC. \n",
      "\n",
      "3. That's a wrap on Fleet Week New York 2025 ... - Instagram\n",
      "   Score: 0.70\n",
      "   Location: NYC\n",
      "   Access: open to all\n",
      "   Time: 2025-08-25 12:06:52.078410\n",
      "   Rationale: Matches your interest in Cultural Event. Located in NYC. \n",
      "\n",
      "4. Nationwide Protest Against Current Administration on June 14th, 2025\n",
      "   Score: 0.70\n",
      "   Location: NYC\n",
      "   Access: open to all\n",
      "   Time: 2025-08-25 12:06:52.078412\n",
      "   Rationale: Matches your interest in Cultural Event. Located in NYC. \n",
      "\n",
      "5. We will not be erased. Tomorrow, join an #InternationalWomensDay ...\n",
      "   Score: 0.50\n",
      "   Location: NYC\n",
      "   Access: open to all\n",
      "   Time: 2025-08-25 12:06:52.078416\n",
      "   Rationale: Matches your interest in Cultural Event. Located in NYC. \n"
     ]
    }
   ],
   "source": [
    "# Show the top recommendations\n",
    "print(\"Top Recommendations:\")\n",
    "print(\"=\" * 50)\n",
    "\n",
    "for i, event in enumerate(result['top10'], 1):\n",
    "    print(f\"\\n{i}. {event['title']}\")\n",
    "    print(f\"   Score: {event['recommendation']:.2f}\")\n",
    "    print(f\"   Location: {event['location']}\")\n",
    "    print(f\"   Access: {event['access_req']}\")\n",
    "    print(f\"   Time: {event['time']}\")\n",
    "    print(f\"   Rationale: {event['rationale']}\")"
   ]
  },
  {
   "cell_type": "markdown",
   "metadata": {},
   "source": [
    "## 3. Examine Workflow Execution"
   ]
  },
  {
   "cell_type": "code",
   "execution_count": 4,
   "metadata": {},
   "outputs": [
    {
     "name": "stdout",
     "output_type": "stream",
     "text": [
      "Workflow Execution Logs:\n",
      "==================================================\n",
      "  • Profile & Planner: Building search profile from test data\n",
      "  • Profile & Planner: Built profile with 22 domains and 21 keywords\n",
      "  • Profile & Planner: Search strategy uses 7 keywords\n",
      "  • Retriever: Searching for events with Tavily API\n",
      "  • Retriever: Found 7 candidates from Tavily\n",
      "  • Extractor: Processing 7 candidates\n",
      "  • Recommender: Scoring 5 events\n",
      "  • Recommender: Decision=accept\n"
     ]
    }
   ],
   "source": [
    "# Show the workflow execution logs\n",
    "print(\"Workflow Execution Logs:\")\n",
    "print(\"=\" * 50)\n",
    "\n",
    "for log in result['logs']:\n",
    "    print(f\"  • {log}\")"
   ]
  },
  {
   "cell_type": "markdown",
   "metadata": {},
   "source": [
    "## 4. User Profile Analysis"
   ]
  },
  {
   "cell_type": "code",
   "execution_count": 8,
   "metadata": {},
   "outputs": [
    {
     "name": "stdout",
     "output_type": "stream",
     "text": [
      "TESTING DATE FILTER (No API call)\n",
      "============================================================\n",
      "✓ KEPT: March for Climate Action - Bryant Park April 2025\n",
      "✓ KEPT: Met Gala 2025 - Fashion's Biggest Night\n",
      "✓ KEPT: NYC Mayor's Office Cultural Events Initiative\n",
      "\n",
      "Filtered: 3/3 results kept\n",
      "\n",
      "============================================================\n",
      "TESTING RE-RANKING (No API call)\n",
      "============================================================\n",
      "\n",
      "March for Climate Action - Bryant Park April 2025\n",
      "  Original: 0.75 → Relevance: 0.90\n",
      "  Boosted by: +0.15\n",
      "\n",
      "Met Gala 2025 - Fashion's Biggest Night\n",
      "  Original: 0.82 → Relevance: 0.97\n",
      "  Boosted by: +0.15\n",
      "\n",
      "NYC Mayor's Office Cultural Events Initiative\n",
      "  Original: 0.45 → Relevance: 0.55\n",
      "  Boosted by: +0.10\n"
     ]
    }
   ],
   "source": [
    "# Test the retriever's processing without making API calls\n",
    "# Using mock data that mimics Tavily's response\n",
    "\n",
    "mock_tavily_results = [\n",
    "    {\n",
    "        \"url\": \"https://www.timeout.com/newyork/protests\",\n",
    "        \"title\": \"March for Climate Action - Bryant Park April 2025\",\n",
    "        \"content\": \"Join thousands for a peaceful march starting at Bryant Park on April 5, 2025. The protest aims to raise awareness about climate change...\",\n",
    "        \"score\": 0.75\n",
    "    },\n",
    "    {\n",
    "        \"url\": \"https://www.metmuseum.org/events\",\n",
    "        \"title\": \"Met Gala 2025 - Fashion's Biggest Night\",\n",
    "        \"content\": \"The Metropolitan Museum of Art announces the 2025 Met Gala scheduled for May. This exclusive cultural event brings together...\",\n",
    "        \"score\": 0.82\n",
    "    },\n",
    "    {\n",
    "        \"url\": \"https://www.nyc.gov/office-of-the-mayor\",\n",
    "        \"title\": \"NYC Mayor's Office Cultural Events Initiative\",\n",
    "        \"content\": \"Mayor announces funding for summer 2025 cultural festivals across all five boroughs. Events will run from June through August...\",\n",
    "        \"score\": 0.45\n",
    "    }\n",
    "]\n",
    "\n",
    "# Process with date filtering\n",
    "print(\"TESTING DATE FILTER (No API call)\")\n",
    "print(\"=\" * 60)\n",
    "\n",
    "date_from = datetime.now()\n",
    "date_to = datetime.now() + timedelta(days=30)\n",
    "\n",
    "# Mock the date filtering\n",
    "filtered = []\n",
    "for result in mock_tavily_results:\n",
    "    if \"April\" in result[\"content\"] or \"May\" in result[\"content\"]:\n",
    "        filtered.append(result)\n",
    "        print(f\"✓ KEPT: {result['title'][:50]}\")\n",
    "    else:\n",
    "        print(f\"✗ FILTERED: {result['title'][:50]} (outside date range)\")\n",
    "\n",
    "print(f\"\\nFiltered: {len(filtered)}/{len(mock_tavily_results)} results kept\")\n",
    "\n",
    "# Test re-ranking\n",
    "print(\"\\n\" + \"=\" * 60)\n",
    "print(\"TESTING RE-RANKING (No API call)\")\n",
    "print(\"=\" * 60)\n",
    "\n",
    "interests = [\"protests\", \"cultural events\", \"fashion\"]\n",
    "keywords = [\"climate\", \"gala\", \"march\", \"bryant park\"]\n",
    "\n",
    "for result in filtered:\n",
    "    original_score = result[\"score\"]\n",
    "    new_score = original_score\n",
    "    \n",
    "    # Apply boosts\n",
    "    for interest in interests:\n",
    "        if interest.lower() in result[\"title\"].lower() or interest.lower() in result[\"content\"].lower():\n",
    "            new_score += 0.1\n",
    "    \n",
    "    for keyword in keywords:\n",
    "        if keyword.lower() in result[\"title\"].lower() or keyword.lower() in result[\"content\"].lower():\n",
    "            new_score += 0.05\n",
    "    \n",
    "    result[\"relevance_score\"] = min(new_score, 1.0)\n",
    "    \n",
    "    print(f\"\\n{result['title'][:50]}\")\n",
    "    print(f\"  Original: {original_score:.2f} → Relevance: {result['relevance_score']:.2f}\")\n",
    "    if result[\"relevance_score\"] > original_score:\n",
    "        print(f\"  Boosted by: +{result['relevance_score'] - original_score:.2f}\")"
   ]
  },
  {
   "cell_type": "markdown",
   "metadata": {},
   "source": [
    "### 9.4 Testing with Mock Data (No API Credits)"
   ]
  },
  {
   "cell_type": "code",
   "execution_count": 9,
   "metadata": {},
   "outputs": [
    {
     "name": "stdout",
     "output_type": "stream",
     "text": [
      "============================================================\n",
      "RETRIEVER PROCESSING PIPELINE\n",
      "============================================================\n",
      "\n",
      "1. RAW TAVILY RESULTS → CANDIDATES\n",
      "   For each result from Tavily:\n",
      "   • Extract url, title, content (snippet), score\n",
      "   • Truncate content to 500 characters\n",
      "   • Sort by score (descending)\n",
      "\n",
      "2. DATE FILTERING\n",
      "   Check each candidate's snippet for:\n",
      "   • Month names in date range (March, April, etc.)\n",
      "   • Temporal keywords (next week, upcoming, scheduled)\n",
      "   • Year mentions (2025)\n",
      "   → Keep only candidates with relevant dates\n",
      "\n",
      "3. RE-RANKING BY RELEVANCE\n",
      "   Boost scores based on:\n",
      "   • User interests match (+0.1 per interest)\n",
      "   • Keyword match (+0.05 per keyword)\n",
      "   • Final score capped at 1.0\n",
      "   → Re-sort by new relevance scores\n",
      "\n",
      "4. FINAL OUTPUT\n",
      "   Return list of candidates with:\n",
      "   • url, title, snippet\n",
      "   • score (original Tavily score)\n",
      "   • relevance_score (after our re-ranking)\n",
      "\n",
      "============================================================\n",
      "EXAMPLE: SCORE BOOSTING\n",
      "============================================================\n",
      "\n",
      "Original score: 0.5\n",
      "Title: Climate Protest at Bryant Park\n",
      "\n",
      "Boosts applied:\n",
      "  +0.05 for keyword 'protest'\n",
      "  +0.05 for keyword 'bryant park'\n",
      "  +0.05 for keyword 'climate'\n",
      "\n",
      "Final relevance score: 0.65\n"
     ]
    }
   ],
   "source": [
    "# Show how the Retriever processes Tavily results\n",
    "\n",
    "# Convert Tavily results to our candidate format\n",
    "def show_processing_pipeline():\n",
    "    print(\"=\" * 60)\n",
    "    print(\"RETRIEVER PROCESSING PIPELINE\")\n",
    "    print(\"=\" * 60)\n",
    "    \n",
    "    print(\"\\n1. RAW TAVILY RESULTS → CANDIDATES\")\n",
    "    print(\"   For each result from Tavily:\")\n",
    "    print(\"   • Extract url, title, content (snippet), score\")\n",
    "    print(\"   • Truncate content to 500 characters\")\n",
    "    print(\"   • Sort by score (descending)\")\n",
    "    \n",
    "    print(\"\\n2. DATE FILTERING\")\n",
    "    print(\"   Check each candidate's snippet for:\")\n",
    "    print(\"   • Month names in date range (March, April, etc.)\")\n",
    "    print(\"   • Temporal keywords (next week, upcoming, scheduled)\")\n",
    "    print(\"   • Year mentions (2025)\")\n",
    "    print(\"   → Keep only candidates with relevant dates\")\n",
    "    \n",
    "    print(\"\\n3. RE-RANKING BY RELEVANCE\")\n",
    "    print(\"   Boost scores based on:\")\n",
    "    print(\"   • User interests match (+0.1 per interest)\")\n",
    "    print(\"   • Keyword match (+0.05 per keyword)\")\n",
    "    print(\"   • Final score capped at 1.0\")\n",
    "    print(\"   → Re-sort by new relevance scores\")\n",
    "    \n",
    "    print(\"\\n4. FINAL OUTPUT\")\n",
    "    print(\"   Return list of candidates with:\")\n",
    "    print(\"   • url, title, snippet\")\n",
    "    print(\"   • score (original Tavily score)\")\n",
    "    print(\"   • relevance_score (after our re-ranking)\")\n",
    "\n",
    "show_processing_pipeline()\n",
    "\n",
    "# Example of score boosting\n",
    "print(\"\\n\" + \"=\" * 60)\n",
    "print(\"EXAMPLE: SCORE BOOSTING\")\n",
    "print(\"=\" * 60)\n",
    "\n",
    "example_candidate = {\n",
    "    \"title\": \"Climate Protest at Bryant Park\",\n",
    "    \"snippet\": \"Major protest scheduled for next week...\",\n",
    "    \"score\": 0.5  # Original Tavily score\n",
    "}\n",
    "\n",
    "interests = [\"protests\", \"cultural events\", \"political\"]\n",
    "keywords = [\"protest\", \"march\", \"bryant park\", \"climate\"]\n",
    "\n",
    "print(f\"\\nOriginal score: {example_candidate['score']}\")\n",
    "print(f\"Title: {example_candidate['title']}\")\n",
    "print(f\"\\nBoosts applied:\")\n",
    "\n",
    "relevance = example_candidate['score']\n",
    "for interest in interests:\n",
    "    if interest.lower() in example_candidate['title'].lower():\n",
    "        print(f\"  +0.1 for interest '{interest}'\")\n",
    "        relevance += 0.1\n",
    "\n",
    "for keyword in keywords:\n",
    "    if keyword.lower() in example_candidate['title'].lower():\n",
    "        print(f\"  +0.05 for keyword '{keyword}'\")\n",
    "        relevance += 0.05\n",
    "\n",
    "print(f\"\\nFinal relevance score: {min(relevance, 1.0):.2f}\")"
   ]
  },
  {
   "cell_type": "markdown",
   "metadata": {},
   "source": [
    "### 9.3 Post-Processing Applied by Retriever"
   ]
  },
  {
   "cell_type": "code",
   "execution_count": 10,
   "metadata": {},
   "outputs": [
    {
     "name": "stdout",
     "output_type": "stream",
     "text": [
      "============================================================\n",
      "EXAMPLE TAVILY API RESPONSE STRUCTURE\n",
      "============================================================\n",
      "\n",
      "1. TOP-LEVEL FIELDS:\n",
      "   • results: list\n",
      "   • query: str\n",
      "   • follow_up_questions: NoneType\n",
      "   • answer: NoneType\n",
      "   • images: list\n",
      "   • results_count: int\n",
      "\n",
      "2. RESULT OBJECT STRUCTURE:\n",
      "   • url: https://www.timeout.com/newyork/events-calendar/ap...\n",
      "   • title: NYC events in April 2025 - Time Out\n",
      "   • content: The best NYC events in April include much-needed o...\n",
      "   • score: 0.586\n",
      "   • published_date: None\n",
      "   • author: None\n",
      "   • raw_content: None\n",
      "\n",
      "3. WHAT WE EXTRACT FROM EACH RESULT:\n",
      "   • url → candidate['url']\n",
      "   • title → candidate['title']\n",
      "   • content → candidate['snippet'] (truncated to 500 chars)\n",
      "   • score → candidate['score']\n",
      "   • published_date → candidate['published_date']\n"
     ]
    }
   ],
   "source": [
    "# Example of what Tavily API returns (based on actual response structure)\n",
    "# This is NOT a real API call - just showing the structure\n",
    "\n",
    "example_tavily_response = {\n",
    "    \"results\": [\n",
    "        {\n",
    "            \"url\": \"https://www.timeout.com/newyork/events-calendar/april-events-calendar\",\n",
    "            \"title\": \"NYC events in April 2025 - Time Out\",\n",
    "            \"content\": \"The best NYC events in April include much-needed outdoor activities, new exhibits, impressive theater, and pretty flower shows...\",\n",
    "            \"score\": 0.586,\n",
    "            \"published_date\": None,\n",
    "            \"author\": None,\n",
    "            \"raw_content\": None  # Would contain full HTML if include_raw_content=True\n",
    "        },\n",
    "        {\n",
    "            \"url\": \"https://www.facebook.com/groups/50501movement/posts/1026118825792113/\",\n",
    "            \"title\": \"Will be at the protest tomorrow Union Square ,New York City 12-3\",\n",
    "            \"content\": \"Protest event organized by 50501 Movement at Union Square...\",\n",
    "            \"score\": 0.512,\n",
    "            \"published_date\": \"2025-03-15\",\n",
    "            \"author\": \"50501 Movement\",\n",
    "            \"raw_content\": None\n",
    "        },\n",
    "        {\n",
    "            \"url\": \"https://www.nyc.gov/events\",\n",
    "            \"title\": \"Welcome to NYC.gov | City of New York\",\n",
    "            \"content\": \"Mayor Adams Announces Upcoming Cultural Events as Part of 'Founded by NYC' initiative...\",\n",
    "            \"score\": 0.457,\n",
    "            \"published_date\": None,\n",
    "            \"author\": None,\n",
    "            \"raw_content\": None\n",
    "        }\n",
    "    ],\n",
    "    \"query\": \"Find cultural events and protests in NYC NYC next 14 days 2025\",\n",
    "    \"follow_up_questions\": None,\n",
    "    \"answer\": None,  # Would contain AI-generated answer if asked for\n",
    "    \"images\": [],    # Would contain images if include_images=True\n",
    "    \"results_count\": 3\n",
    "}\n",
    "\n",
    "print(\"=\" * 60)\n",
    "print(\"EXAMPLE TAVILY API RESPONSE STRUCTURE\")\n",
    "print(\"=\" * 60)\n",
    "\n",
    "print(\"\\n1. TOP-LEVEL FIELDS:\")\n",
    "for key in example_tavily_response.keys():\n",
    "    value_type = type(example_tavily_response[key]).__name__\n",
    "    print(f\"   • {key}: {value_type}\")\n",
    "\n",
    "print(\"\\n2. RESULT OBJECT STRUCTURE:\")\n",
    "if example_tavily_response[\"results\"]:\n",
    "    first_result = example_tavily_response[\"results\"][0]\n",
    "    for key, value in first_result.items():\n",
    "        value_preview = str(value)[:50] + \"...\" if value and len(str(value)) > 50 else value\n",
    "        print(f\"   • {key}: {value_preview}\")\n",
    "\n",
    "print(\"\\n3. WHAT WE EXTRACT FROM EACH RESULT:\")\n",
    "print(\"   • url → candidate['url']\")\n",
    "print(\"   • title → candidate['title']\")  \n",
    "print(\"   • content → candidate['snippet'] (truncated to 500 chars)\")\n",
    "print(\"   • score → candidate['score']\")\n",
    "print(\"   • published_date → candidate['published_date']\")"
   ]
  },
  {
   "cell_type": "markdown",
   "metadata": {},
   "source": [
    "### 9.2 What Tavily API Response Looks Like"
   ]
  },
  {
   "cell_type": "code",
   "execution_count": null,
   "metadata": {},
   "outputs": [],
   "source": [
    "# Let's see what parameters would be sent to Tavily API\n",
    "# WITHOUT making an actual API call\n",
    "\n",
    "# First, get a user profile from test data\n",
    "profile_agent = ProfilePlannerAgent()\n",
    "user_profile = profile_agent.build_user_profile()\n",
    "\n",
    "# Create retriever agent\n",
    "retriever = RetrieverAgent()\n",
    "\n",
    "# Build the search query that would be sent\n",
    "test_query = \"Find cultural events and protests in NYC\"\n",
    "test_keywords = user_profile[\"keywords\"][:5]\n",
    "test_domains = user_profile[\"allowlist_domains\"][:5]\n",
    "\n",
    "# Build the full query string\n",
    "full_query = retriever.build_search_query(\n",
    "    base_query=test_query,\n",
    "    keywords=test_keywords,\n",
    "    location=\"NYC\",\n",
    "    date_range=\"next 14 days\"\n",
    ")\n",
    "\n",
    "# Show what would be sent to Tavily\n",
    "print(\"=\" * 60)\n",
    "print(\"TAVILY API REQUEST PARAMETERS (not actually sent)\")\n",
    "print(\"=\" * 60)\n",
    "\n",
    "tavily_request = {\n",
    "    \"query\": full_query,\n",
    "    \"max_results\": 15,\n",
    "    \"search_depth\": \"basic\",\n",
    "    \"include_raw_content\": False,\n",
    "    \"include_images\": False,\n",
    "    \"include_domains\": test_domains\n",
    "}\n",
    "\n",
    "print(\"\\n1. QUERY STRING:\")\n",
    "print(f\"   '{tavily_request['query']}'\")\n",
    "\n",
    "print(\"\\n2. INCLUDE_DOMAINS (top 5):\")\n",
    "for domain in tavily_request[\"include_domains\"]:\n",
    "    print(f\"   • {domain}\")\n",
    "\n",
    "print(\"\\n3. OTHER PARAMETERS:\")\n",
    "print(f\"   • max_results: {tavily_request['max_results']}\")\n",
    "print(f\"   • search_depth: {tavily_request['search_depth']}\")\n",
    "print(f\"   • include_raw_content: {tavily_request['include_raw_content']}\")\n",
    "print(f\"   • include_images: {tavily_request['include_images']}\")\n",
    "\n",
    "print(\"\\n4. ESTIMATED COST:\")\n",
    "print(f\"   • 1 credit for basic search\")"
   ]
  },
  {
   "cell_type": "markdown",
   "metadata": {},
   "source": [
    "### 9.1 What Gets Sent to Tavily API"
   ]
  },
  {
   "cell_type": "code",
   "execution_count": null,
   "metadata": {},
   "outputs": [],
   "source": [
    "# Import the Retriever agent to inspect it\n",
    "from agents.retriever import RetrieverAgent\n",
    "from agents.profile_planner import ProfilePlannerAgent\n",
    "from datetime import datetime, timedelta\n",
    "\n",
    "print(\"✅ Retriever agent imported for inspection\")"
   ]
  },
  {
   "cell_type": "markdown",
   "metadata": {},
   "source": [
    "## 9. Retriever Agent - Tavily API Inspection"
   ]
  },
  {
   "cell_type": "code",
   "execution_count": 6,
   "metadata": {},
   "outputs": [
    {
     "name": "stdout",
     "output_type": "stream",
     "text": [
      "User Profile Built by Profile & Planner:\n",
      "==================================================\n",
      "\n",
      "Allowed Domains:\n",
      "  • cnn.com\n",
      "  • bbc.com\n",
      "  • nytimes.com\n",
      "  • un.org\n",
      "  • whitehouse.gov\n",
      "  • instagram.com\n",
      "  • twitter.com\n",
      "\n",
      "Keywords:\n",
      "  • protest\n",
      "  • cultural\n",
      "  • political\n",
      "  • parade\n",
      "  • festival\n",
      "\n",
      "Interest Areas:\n",
      "  • protests\n",
      "  • cultural events\n",
      "  • political events\n",
      "\n",
      "Credentials:\n",
      "  • press_card\n"
     ]
    }
   ],
   "source": [
    "# View the user profile that was built\n",
    "print(\"User Profile Built by Profile & Planner:\")\n",
    "print(\"=\" * 50)\n",
    "\n",
    "profile = result['user_profile']\n",
    "\n",
    "print(\"\\nAllowed Domains:\")\n",
    "for domain in profile['allowlist_domains']:\n",
    "    print(f\"  • {domain}\")\n",
    "\n",
    "print(\"\\nKeywords:\")\n",
    "for keyword in profile['keywords']:\n",
    "    print(f\"  • {keyword}\")\n",
    "\n",
    "print(\"\\nInterest Areas:\")\n",
    "for interest in profile['interest_areas']:\n",
    "    print(f\"  • {interest}\")\n",
    "\n",
    "print(\"\\nCredentials:\")\n",
    "for cred in profile['credentials']:\n",
    "    print(f\"  • {cred}\")"
   ]
  },
  {
   "cell_type": "markdown",
   "metadata": {},
   "source": [
    "## 5. State Structure"
   ]
  },
  {
   "cell_type": "code",
   "execution_count": 7,
   "metadata": {},
   "outputs": [
    {
     "name": "stdout",
     "output_type": "stream",
     "text": [
      "Workflow State Structure:\n",
      "==================================================\n",
      "\n",
      "query_spec: (dict with 6 keys)\n",
      "  Keys: ['text', 'city', 'date_from', 'date_to', 'model', 'version']\n",
      "\n",
      "user_profile: (dict with 5 keys)\n",
      "  Keys: ['allowlist_domains', 'keywords', 'prior_feedback', 'interest_areas', 'credentials']\n",
      "\n",
      "candidates: (list with 3 items)\n",
      "  First item type: dict\n",
      "\n",
      "extracted: (list with 3 items)\n",
      "  First item type: dict\n",
      "\n",
      "top10: (list with 3 items)\n",
      "  First item type: dict\n",
      "\n",
      "decision: (dict with 2 keys)\n",
      "  Keys: ['action', 'notes']\n",
      "\n",
      "cycle_count: 2\n",
      "\n",
      "total_cost: 0.09\n",
      "\n",
      "errors: (list with 0 items)\n",
      "\n",
      "logs: (list with 17 items)\n"
     ]
    }
   ],
   "source": [
    "# Examine the complete state structure\n",
    "print(\"Workflow State Structure:\")\n",
    "print(\"=\" * 50)\n",
    "\n",
    "for key in result.keys():\n",
    "    value = result[key]\n",
    "    if isinstance(value, list):\n",
    "        print(f\"\\n{key}: (list with {len(value)} items)\")\n",
    "        if len(value) > 0 and key != 'logs':  # Show first item except for logs\n",
    "            print(f\"  First item type: {type(value[0]).__name__}\")\n",
    "    elif isinstance(value, dict):\n",
    "        print(f\"\\n{key}: (dict with {len(value)} keys)\")\n",
    "        print(f\"  Keys: {list(value.keys())}\")\n",
    "    else:\n",
    "        print(f\"\\n{key}: {value}\")"
   ]
  },
  {
   "cell_type": "markdown",
   "metadata": {},
   "source": [
    "## 6. Cycle Behavior"
   ]
  },
  {
   "cell_type": "code",
   "execution_count": 8,
   "metadata": {},
   "outputs": [
    {
     "name": "stdout",
     "output_type": "stream",
     "text": [
      "Cycle Analysis:\n",
      "==================================================\n",
      "\n",
      "Total cycles: 2\n",
      "Final decision: accept\n",
      "Decision notes: Sufficient quality results\n",
      "\n",
      "Agent Execution Count:\n",
      "  • Profile & Planner: 5 times\n",
      "  • Retriever: 3 times\n",
      "  • Extractor: 3 times\n",
      "  • Recommender: 6 times\n"
     ]
    }
   ],
   "source": [
    "# Analyze the cycle behavior\n",
    "print(\"Cycle Analysis:\")\n",
    "print(\"=\" * 50)\n",
    "\n",
    "print(f\"\\nTotal cycles: {result['cycle_count']}\")\n",
    "print(f\"Final decision: {result['decision']['action']}\")\n",
    "print(f\"Decision notes: {result['decision']['notes']}\")\n",
    "\n",
    "# Count how many times each agent was called\n",
    "agent_calls = {}\n",
    "for log in result['logs']:\n",
    "    agent = log.split(':')[0]\n",
    "    agent_calls[agent] = agent_calls.get(agent, 0) + 1\n",
    "\n",
    "print(\"\\nAgent Execution Count:\")\n",
    "for agent, count in agent_calls.items():\n",
    "    print(f\"  • {agent}: {count} times\")"
   ]
  },
  {
   "cell_type": "markdown",
   "metadata": {},
   "source": [
    "## 7. Test Different Queries"
   ]
  },
  {
   "cell_type": "code",
   "execution_count": 9,
   "metadata": {},
   "outputs": [
    {
     "name": "stdout",
     "output_type": "stream",
     "text": [
      "Testing Different Queries:\n",
      "==================================================\n",
      "\n",
      "Query: Political events at UN headquarters\n",
      "  Results: 3 events\n",
      "  Cycles: 2\n",
      "  Cost: $0.0900\n",
      "  Top result: Climate Protest at Bryant Park\n",
      "\n",
      "Query: Fashion and cultural events next week\n",
      "  Results: 3 events\n",
      "  Cycles: 2\n",
      "  Cost: $0.0900\n",
      "  Top result: Climate Protest at Bryant Park\n",
      "\n",
      "Query: Protests and demonstrations in Bryant Park\n",
      "  Results: 3 events\n",
      "  Cycles: 2\n",
      "  Cost: $0.0900\n",
      "  Top result: Climate Protest at Bryant Park\n"
     ]
    }
   ],
   "source": [
    "# Test with different query types\n",
    "test_queries = [\n",
    "    \"Political events at UN headquarters\",\n",
    "    \"Fashion and cultural events next week\",\n",
    "    \"Protests and demonstrations in Bryant Park\"\n",
    "]\n",
    "\n",
    "print(\"Testing Different Queries:\")\n",
    "print(\"=\" * 50)\n",
    "\n",
    "for query in test_queries:\n",
    "    result = run_workflow(query, city=\"NYC\", days_ahead=30)\n",
    "    print(f\"\\nQuery: {query}\")\n",
    "    print(f\"  Results: {len(result['top10'])} events\")\n",
    "    print(f\"  Cycles: {result['cycle_count']}\")\n",
    "    print(f\"  Cost: ${result['total_cost']:.4f}\")\n",
    "    if result['top10']:\n",
    "        print(f\"  Top result: {result['top10'][0]['title']}\")"
   ]
  },
  {
   "cell_type": "markdown",
   "metadata": {},
   "source": [
    "## 8. Workflow Components"
   ]
  },
  {
   "cell_type": "code",
   "execution_count": 10,
   "metadata": {},
   "outputs": [
    {
     "name": "stdout",
     "output_type": "stream",
     "text": [
      "Workflow Components:\n",
      "==================================================\n",
      "\n",
      "1. STATE TYPES:\n",
      "   • QuerySpec: User's search parameters\n",
      "   • UserProfile: Domains, keywords, interests\n",
      "   • Candidates: Raw search results\n",
      "   • ExtractedEvent: Normalized event data\n",
      "   • RecommendedEvent: Scored events with rationales\n",
      "   • Decision: Gate decision (revise/accept)\n",
      "\n",
      "2. AGENT NODES:\n",
      "   • profile_planner_node: Builds search profile\n",
      "   • retriever_node: Searches for events (will use Tavily)\n",
      "   • extractor_node: Extracts event details (will use Tavily)\n",
      "   • recommender_gate_node: Scores and gates results\n",
      "\n",
      "3. FLOW:\n",
      "   Profile → Retriever → Extractor → Recommender/Gate\n",
      "   ↑                                              ↓\n",
      "   ←← (cycle if needed, max 2 times) ←←←←←←←←←←←←\n"
     ]
    }
   ],
   "source": [
    "# Show the workflow components\n",
    "print(\"Workflow Components:\")\n",
    "print(\"=\" * 50)\n",
    "\n",
    "print(\"\\n1. STATE TYPES:\")\n",
    "print(\"   • QuerySpec: User's search parameters\")\n",
    "print(\"   • UserProfile: Domains, keywords, interests\")\n",
    "print(\"   • Candidates: Raw search results\")\n",
    "print(\"   • ExtractedEvent: Normalized event data\")\n",
    "print(\"   • RecommendedEvent: Scored events with rationales\")\n",
    "print(\"   • Decision: Gate decision (revise/accept)\")\n",
    "\n",
    "print(\"\\n2. AGENT NODES:\")\n",
    "print(\"   • profile_planner_node: Builds search profile\")\n",
    "print(\"   • retriever_node: Searches for events (will use Tavily)\")\n",
    "print(\"   • extractor_node: Extracts event details (will use Tavily)\")\n",
    "print(\"   • recommender_gate_node: Scores and gates results\")\n",
    "\n",
    "print(\"\\n3. FLOW:\")\n",
    "print(\"   Profile → Retriever → Extractor → Recommender/Gate\")\n",
    "print(\"   ↑                                              ↓\")\n",
    "print(\"   ←← (cycle if needed, max 2 times) ←←←←←←←←←←←←\")"
   ]
  },
  {
   "cell_type": "markdown",
   "metadata": {},
   "source": [
    "## Summary"
   ]
  },
  {
   "cell_type": "code",
   "execution_count": null,
   "metadata": {},
   "outputs": [],
   "source": [
    "print(\"=\" * 60)\n",
    "print(\"  LangGraph Workflow Status\")\n",
    "print(\"=\" * 60)\n",
    "\n",
    "print(\"\\n✅ COMPLETED:\")\n",
    "print(\"   • State management system\")\n",
    "print(\"   • Agent node structure\")\n",
    "print(\"   • Linear workflow flow\")\n",
    "print(\"   • Cycle capability (with max limit)\")\n",
    "print(\"   • Cost tracking\")\n",
    "print(\"   • Logging system\")\n",
    "\n",
    "print(\"\\n⏳ TODO (Next Steps):\")\n",
    "print(\"   • Profile & Planner: Parse real CSV data\")\n",
    "print(\"   • Retriever: Integrate Tavily search API\")\n",
    "print(\"   • Extractor: Use Tavily extract API\")\n",
    "print(\"   • Recommender: Improve scoring algorithm\")\n",
    "\n",
    "print(\"\\n📍 Current Status:\")\n",
    "print(\"   The workflow skeleton is functional with mock data.\")\n",
    "print(\"   Ready to integrate real agents one by one.\")"
   ]
  }
 ],
 "metadata": {
  "kernelspec": {
   "display_name": "Python 3 (ipykernel)",
   "language": "python",
   "name": "python3"
  },
  "language_info": {
   "codemirror_mode": {
    "name": "ipython",
    "version": 3
   },
   "file_extension": ".py",
   "mimetype": "text/x-python",
   "name": "python",
   "nbconvert_exporter": "python",
   "pygments_lexer": "ipython3",
   "version": "3.13.3"
  }
 },
 "nbformat": 4,
 "nbformat_minor": 4
}
